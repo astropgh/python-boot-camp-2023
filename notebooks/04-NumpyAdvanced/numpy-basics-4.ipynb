{
 "cells": [
  {
   "cell_type": "code",
   "execution_count": 2,
   "metadata": {},
   "outputs": [],
   "source": [
    "from pathlib import Path\n",
    "\n",
    "import numpy as np\n",
    "import matplotlib.pyplot as plt"
   ]
  },
  {
   "cell_type": "markdown",
   "metadata": {},
   "source": [
    "## To review \n",
    "\n",
    "*Masks* are a useful way to identify parts of an array that you are interested in using. We can use logic statements or boolean arrays to do this. Our mask has to match in shape to the array of interest\n",
    "\n",
    "### `np.where()`: Turning a mask into indices"
   ]
  },
  {
   "cell_type": "code",
   "execution_count": null,
   "metadata": {},
   "outputs": [],
   "source": [
    "x = np.arange(20).reshape((4, 5))\n",
    "x"
   ]
  },
  {
   "cell_type": "markdown",
   "metadata": {},
   "source": [
    "The `np.where` function returns the locations of the elements where the given condition is `True` by their **coordinates**. This is different than the way our normal Boolean mask works. See below"
   ]
  },
  {
   "cell_type": "code",
   "execution_count": null,
   "metadata": {},
   "outputs": [],
   "source": [
    "print(x<12)\n",
    "print(np.where(x < 12))\n"
   ]
  },
  {
   "cell_type": "markdown",
   "metadata": {},
   "source": [
    "Note: both of these are valid ways to mask an array and yield the same results."
   ]
  },
  {
   "cell_type": "code",
   "execution_count": null,
   "metadata": {},
   "outputs": [],
   "source": [
    "print(x[x < 12]) \n",
    "print(x[np.where(x<12)])"
   ]
  },
  {
   "cell_type": "markdown",
   "metadata": {},
   "source": [
    "**NOTE:** Instead of returning just the locations of elements `np.where` can also return elements from one of two arrays based on the condition. You can find details [here](https://numpy.org/doc/stable/reference/generated/numpy.where.html?highlight=where#numpy.where)"
   ]
  },
  {
   "cell_type": "markdown",
   "metadata": {},
   "source": [
    "### Indexing with other sequences"
   ]
  },
  {
   "cell_type": "markdown",
   "metadata": {},
   "source": [
    "We can also index elements of arrays using other arrays whose elements denote the indices of the elements to be selected."
   ]
  },
  {
   "cell_type": "code",
   "execution_count": null,
   "metadata": {},
   "outputs": [],
   "source": [
    "x = np.arange(16).reshape((4, 4))\n",
    "x"
   ]
  },
  {
   "cell_type": "code",
   "execution_count": null,
   "metadata": {},
   "outputs": [],
   "source": [
    "x[range(4), range(4)] # (0,0) (1,1) (2,2) and (3,3)"
   ]
  },
  {
   "cell_type": "markdown",
   "metadata": {},
   "source": [
    "The image below from [scipylectures.org](https://scipy-lectures.org/intro/numpy/array_object.html#fancy-indexing) summarizes fancy indexing."
   ]
  },
  {
   "cell_type": "markdown",
   "metadata": {},
   "source": [
    "<img src=\"data/img/np_fancy_indexing.png\" height=300px width=650px>"
   ]
  },
  {
   "cell_type": "markdown",
   "metadata": {},
   "source": [
    "### Indexing based on another array"
   ]
  },
  {
   "cell_type": "markdown",
   "metadata": {},
   "source": [
    "Sometimes we care more about multiple properties of an object for classification purposes. Below we have some randomly generated people, their ages, heights [cm] and favorite colors. \n",
    "\n",
    "Note: the ages and heights store as strings, so you can use .astype(int) to change them to integers"
   ]
  },
  {
   "cell_type": "code",
   "execution_count": null,
   "metadata": {},
   "outputs": [],
   "source": [
    "fake_people = np.array([\n",
    "    ['Richard Burden', 25, 185, 'Blue'],\n",
    "    ['Marc Serrano', 48, 178, 'Red'],\n",
    "    ['Helen Heath', 42, 168, 'Black'],\n",
    "    ['Janice Parker', 34, 164, 'Blue'],\n",
    "    ['Kathleen Harris', 27, 172, 'Purple'],\n",
    "    ['Gary Womack', 22, 179, 'Black'],\n",
    "    ['Mary Roughton', 46, 171, 'Blue'],\n",
    "    ['Donald Dewberry', 35, 190, 'Blue'],\n",
    "    ['Bryon Martin', 27, 179, 'Red'],\n",
    "    ['Elizabeth Johnson', 49, 170, 'Purple'],\n",
    "    ['Ollie Lee', 28, 172,'Purple'],  \n",
    "    ['Angelo Aviles', 34, 170, 'Blue'] ])\n",
    "names   = fake_people[]\n",
    "ages    = fake_people[].astype(int)\n",
    "heights = fake_people[].astype(int)\n",
    "colors  = fake_people[]\n"
   ]
  },
  {
   "cell_type": "markdown",
   "metadata": {},
   "source": [
    "This sample data is hopefully enough to be applicable to other cases in astronomy, potentially objects and telescopes the data is taken from etc.\n",
    "\n",
    "In the cell below, using fancy array slicing, find out the following:\n",
    "- The names of people under 30 years old\n",
    "- The favorite colors of people below the average height \n",
    "- The ages and names of people with the favorite color blue\n"
   ]
  },
  {
   "cell_type": "code",
   "execution_count": null,
   "metadata": {},
   "outputs": [],
   "source": []
  },
  {
   "cell_type": "markdown",
   "metadata": {},
   "source": [
    "Not so bad! Now we can be even more selective by searching over multiple criteria using logic statements. All you have to do is\n",
    "`array[(logic1) *logical* (logic2)]`\n",
    "\n",
    "Using logic statements find the following:\n",
    "- The names of the tallest and shortest person (we do not care who is who, just get the names)\n",
    "- The names of people above average height younger than 30 "
   ]
  },
  {
   "cell_type": "code",
   "execution_count": null,
   "metadata": {},
   "outputs": [],
   "source": [
    "\n"
   ]
  },
  {
   "cell_type": "markdown",
   "metadata": {},
   "source": [
    "### Classifying the pretty pictures"
   ]
  },
  {
   "cell_type": "markdown",
   "metadata": {},
   "source": [
    "Another `.npy` file (`data/sdss_morpho.npy`) has been provided which contains morphological classification of the galaxies we dealt with in the previous notebook. The galaxy is *spheroidal* if the value of the corresponding element is `0` and *discy* if the value is `1`. First read the two data files (images and morphologies) into NumPy arrays."
   ]
  },
  {
   "cell_type": "code",
   "execution_count": null,
   "metadata": {},
   "outputs": [],
   "source": [
    "path_img = Path(\"./data/sdss.npy\")\n",
    "path_morpho = Path(\"./data/sdss_morpho.npy\")\n",
    "# COMPLETE THESE TWO LINES OF CODE\n",
    "img = \n",
    "morpho ="
   ]
  },
  {
   "cell_type": "markdown",
   "metadata": {},
   "source": [
    "Which of the indices have *discs*? Use `np.where` to find it out."
   ]
  },
  {
   "cell_type": "code",
   "execution_count": null,
   "metadata": {},
   "outputs": [],
   "source": [
    "np.where()                    #COMPLETE THIS LINE OF CODE"
   ]
  },
  {
   "cell_type": "markdown",
   "metadata": {},
   "source": [
    "Now that you know the indices, use them to select all the spheroidal galaxies.  \n",
    "**NOTE** that `np.where` returns a tuple. Since we are interested in the values use `np.where(value)[0]`. Check the documentation to see why it is so. Use `np.where?` or press `Shift` + `tab` with the cursor on `np.where`."
   ]
  },
  {
   "cell_type": "code",
   "execution_count": null,
   "metadata": {},
   "outputs": [],
   "source": [
    "spheroid_img =                  #COMPLETE THIS LINE OF CODE"
   ]
  },
  {
   "cell_type": "markdown",
   "metadata": {},
   "source": [
    "Flag all the pixels which have negative values by replacing them with `np.nan`."
   ]
  },
  {
   "cell_type": "code",
   "execution_count": null,
   "metadata": {},
   "outputs": [],
   "source": [
    "spheroid_img[] =               #COMPLETE THIS LINE OF CODE"
   ]
  },
  {
   "cell_type": "markdown",
   "metadata": {},
   "source": [
    "Now plot the $r$ wavelength band of all these spheroids in a similar way to the last notebook."
   ]
  },
  {
   "cell_type": "code",
   "execution_count": null,
   "metadata": {},
   "outputs": [],
   "source": [
    "# COMPLETE THESE TWO LINES OF CODE\n",
    "for i in range(): #loop over the number of spheroids\n",
    "    plt.imshow(np.tanh(spheroid_img[]) , cmap=\"viridis\") #select the correct galaxy and wavelength band"
   ]
  },
  {
   "cell_type": "markdown",
   "metadata": {},
   "source": [
    "You can see, `matplotlib` does not plot points marked with `np.nan`. This is a great way to flag points that you do not want to be plotted. A more sophisticated way to flag bad data points is to use `masked arrays`. Check them out [here](https://numpy.org/doc/stable/reference/maskedarray.html)"
   ]
  },
  {
   "cell_type": "markdown",
   "metadata": {
    "tags": []
   },
   "source": [
    "# Array shape manipulation"
   ]
  },
  {
   "cell_type": "markdown",
   "metadata": {},
   "source": [
    "NumPy lets us rearrange the elements in an array and reshape them into other forms.   \n",
    "### Flattening\n",
    "We can unpack the elements of a multidimensional array into a 1D array using the `array.ravel()` method."
   ]
  },
  {
   "cell_type": "code",
   "execution_count": null,
   "metadata": {},
   "outputs": [],
   "source": [
    "a = np.array([[1, 2, 3], [4, 5, 6]])\n",
    "print(a.shape)\n",
    "print(a.ravel())"
   ]
  },
  {
   "cell_type": "markdown",
   "metadata": {},
   "source": [
    "Create the transpose of the above array and flatten it to see how the method works on arrays of different shapes. To obtain the transpose an array `a` use the array attribute `a.T`."
   ]
  },
  {
   "cell_type": "code",
   "execution_count": null,
   "metadata": {},
   "outputs": [],
   "source": [
    "a_transpose =                # COMPLETE THIS LINE OF CODE\n",
    "print(a_transpose)"
   ]
  },
  {
   "cell_type": "code",
   "execution_count": null,
   "metadata": {},
   "outputs": [],
   "source": [
    "a_transpose.ravel()"
   ]
  },
  {
   "cell_type": "markdown",
   "metadata": {},
   "source": [
    "### Adding a Dimension"
   ]
  },
  {
   "cell_type": "markdown",
   "metadata": {},
   "source": [
    "Indexing with the np.newaxis object allows us to add an axis to an array"
   ]
  },
  {
   "cell_type": "code",
   "execution_count": null,
   "metadata": {},
   "outputs": [],
   "source": [
    "z = np.array([1, 2, 3])\n",
    "print(z)\n",
    "print(z.shape)"
   ]
  },
  {
   "cell_type": "code",
   "execution_count": null,
   "metadata": {},
   "outputs": [],
   "source": [
    "z_new = z[:, np.newaxis]\n",
    "print(z_new)\n",
    "print(z_new.shape)"
   ]
  },
  {
   "cell_type": "markdown",
   "metadata": {},
   "source": [
    "### Reshaping"
   ]
  },
  {
   "cell_type": "markdown",
   "metadata": {},
   "source": [
    "The shape of an array can be modified, as long as the total number of elements is unchanged. Here we use reshape to put the flattened array back to its original shape."
   ]
  },
  {
   "cell_type": "code",
   "execution_count": null,
   "metadata": {},
   "outputs": [],
   "source": [
    "b = a.ravel()\n",
    "b = b.reshape((2, 3))\n",
    "b\n"
   ]
  },
  {
   "cell_type": "markdown",
   "metadata": {},
   "source": [
    "Create a 2$\\times$4 matrix with elements starting from 0 and increasing by 1 using `np.arange` and the `array.reshape()`"
   ]
  },
  {
   "cell_type": "code",
   "execution_count": null,
   "metadata": {},
   "outputs": [],
   "source": [
    "                  # COMPLETE THIS LINE OF CODE"
   ]
  },
  {
   "cell_type": "markdown",
   "metadata": {},
   "source": [
    "**NOTE:** The reshape operation (also slicing and many other NumPy operations) creates a *view* of the original array. This is just an efficient way of accessing array data.      \n",
    "**When modifying the view, the original array is modified as well:**"
   ]
  },
  {
   "cell_type": "code",
   "execution_count": 3,
   "metadata": {},
   "outputs": [],
   "source": [
    "arr = np.arange(8) # Create an array\n",
    "arr2 = arr.reshape(2, 4) #Reshape the array (this creates a view)\n",
    "\n",
    "arr[0] = 1000 # change an element of the first array"
   ]
  },
  {
   "cell_type": "code",
   "execution_count": 4,
   "metadata": {},
   "outputs": [
    {
     "data": {
      "text/plain": [
       "array([1000,    1,    2,    3,    4,    5,    6,    7])"
      ]
     },
     "execution_count": 4,
     "metadata": {},
     "output_type": "execute_result"
    }
   ],
   "source": [
    "arr"
   ]
  },
  {
   "cell_type": "code",
   "execution_count": 5,
   "metadata": {},
   "outputs": [
    {
     "data": {
      "text/plain": [
       "array([[1000,    1,    2,    3],\n",
       "       [   4,    5,    6,    7]])"
      ]
     },
     "execution_count": 5,
     "metadata": {},
     "output_type": "execute_result"
    }
   ],
   "source": [
    "arr2"
   ]
  },
  {
   "cell_type": "markdown",
   "metadata": {},
   "source": [
    "You can mitigate against this by creating a copy of the reshaped array, as so:"
   ]
  },
  {
   "cell_type": "code",
   "execution_count": 6,
   "metadata": {},
   "outputs": [],
   "source": [
    "arr = np.arange(8) # Create an array\n",
    "arr2 = arr.reshape(2, 4).copy() #Reshape the array (this creates a view)\n",
    "\n",
    "arr[0] = 1000 # change an element of the first array"
   ]
  },
  {
   "cell_type": "code",
   "execution_count": 7,
   "metadata": {},
   "outputs": [
    {
     "data": {
      "text/plain": [
       "array([1000,    1,    2,    3,    4,    5,    6,    7])"
      ]
     },
     "execution_count": 7,
     "metadata": {},
     "output_type": "execute_result"
    }
   ],
   "source": [
    "arr"
   ]
  },
  {
   "cell_type": "code",
   "execution_count": 8,
   "metadata": {},
   "outputs": [
    {
     "data": {
      "text/plain": [
       "array([[0, 1, 2, 3],\n",
       "       [4, 5, 6, 7]])"
      ]
     },
     "execution_count": 8,
     "metadata": {},
     "output_type": "execute_result"
    }
   ],
   "source": [
    "arr2"
   ]
  },
  {
   "cell_type": "markdown",
   "metadata": {
    "tags": []
   },
   "source": [
    "# Broadcasting"
   ]
  },
  {
   "cell_type": "markdown",
   "metadata": {},
   "source": [
    "As we have seen basic operations on NumPy arrays (addition, etc.) are elementwise. Operations between two arrays work when the arrays are of same size. **However** It is also possible to do operations (i.e. `+`, `-`, `*`, `/`) between arrays of different sizes if NumPy can transform these arrays so that they all have the same size, this conversion is called *broadcasting*. The process can be illustrated using this image from [scipy-lectures.org](https://scipy-lectures.org/intro/numpy/operations.html#broadcasting)."
   ]
  },
  {
   "cell_type": "markdown",
   "metadata": {},
   "source": [
    "<img src=\"data/img/np_broadcasting.png\" height=300px width=800px>"
   ]
  },
  {
   "cell_type": "markdown",
   "metadata": {},
   "source": [
    "We can check the above by seeing that this works"
   ]
  },
  {
   "cell_type": "code",
   "execution_count": null,
   "metadata": {},
   "outputs": [],
   "source": [
    "arr1 = np.ones((2, 3))\n",
    "print(arr1)\n",
    "arr2 = np.ones((2, 1))\n",
    "print(arr2)\n",
    "arr1 + arr2"
   ]
  },
  {
   "cell_type": "markdown",
   "metadata": {},
   "source": [
    "While this does not"
   ]
  },
  {
   "cell_type": "code",
   "execution_count": null,
   "metadata": {},
   "outputs": [],
   "source": [
    "arr1 = np.ones((2, 3))\n",
    "print(arr1)\n",
    "arr2 = np.ones(2)\n",
    "print(arr2)\n",
    "arr1 + arr2"
   ]
  },
  {
   "cell_type": "markdown",
   "metadata": {},
   "source": [
    "Now try this:   \n",
    "\n",
    "`A = [[1 2 3 4]\n",
    "     [5 6 7 8]]`\n",
    "   \n",
    "Use `np.arange` and `np.reshape` to create the array `A`.   \n",
    "\n",
    "The array is defined as `B = [1 2]`   \n",
    "\n",
    "Use broadcasting to add B to each column of A to create the final array\n",
    "\n",
    "`A + B = [[2  3  4  5]\n",
    "         [7  8  9 10]]`\n"
   ]
  },
  {
   "cell_type": "code",
   "execution_count": null,
   "metadata": {},
   "outputs": [],
   "source": [
    "A =            # COMPLETE THIS LINE OF CODE\n",
    "B = np.array([1,2])"
   ]
  },
  {
   "cell_type": "code",
   "execution_count": null,
   "metadata": {},
   "outputs": [],
   "source": [
    "A + B            # COMPLETE THIS LINE OF CODE"
   ]
  },
  {
   "cell_type": "markdown",
   "metadata": {},
   "source": [
    "### Scaling a dataset   \n",
    "As a first step of many kinds of data analysis, we scale the data my subtracting the mean and dividing by the standard deviation. We also sometimes might need to normalize the data. We will perform such an operation efficiently with the help of Broadcasting. First lets create our simulated dataset."
   ]
  },
  {
   "cell_type": "code",
   "execution_count": 9,
   "metadata": {},
   "outputs": [],
   "source": [
    "X = np.random.normal([5,10,15],[2,3,4], (10000, 3))"
   ]
  },
  {
   "cell_type": "code",
   "execution_count": 10,
   "metadata": {},
   "outputs": [
    {
     "data": {
      "text/plain": [
       "(10000, 3)"
      ]
     },
     "execution_count": 10,
     "metadata": {},
     "output_type": "execute_result"
    }
   ],
   "source": [
    "X.shape"
   ]
  },
  {
   "cell_type": "markdown",
   "metadata": {},
   "source": [
    "Our simulated data set `X` has measurements of 3 properties for 10000 different objects. The sum of the three properties should always be 1 (though the given data is not normalized in that way).  \n",
    "\n",
    "Their respective distributions (Gaussians with different means and variances) are plotted below. The aim is to first normalize the data so that the three properties always add up to 1 and then scale the data set so that it has zero mean and unit standard deviation."
   ]
  },
  {
   "cell_type": "code",
   "execution_count": 13,
   "metadata": {},
   "outputs": [
    {
     "data": {
      "text/plain": [
       "<matplotlib.legend.Legend at 0x7fa01652e8b0>"
      ]
     },
     "execution_count": 13,
     "metadata": {},
     "output_type": "execute_result"
    },
    {
     "data": {
      "image/png": "[encoded data removed]",
      "text/plain": [
       "<Figure size 864x504 with 1 Axes>"
      ]
     },
     "metadata": {
      "needs_background": "light"
     },
     "output_type": "display_data"
    }
   ],
   "source": [
    "fig, ax = plt.subplots(figsize=(12,7))\n",
    "ax.hist(X[:,0], bins=50, histtype=\"step\", label=\"Property 1\")\n",
    "ax.hist(X[:,1], bins=50, histtype=\"step\", label=\"Property 2\")\n",
    "ax.hist(X[:,2], bins=50, histtype=\"step\", label=\"Property 3\")\n",
    "ax.legend()"
   ]
  },
  {
   "cell_type": "markdown",
   "metadata": {},
   "source": [
    "Let's normalize the data so that the three properties add up to 1. Use `np.sum` to do this, with the correct \"axis\" keyword, then normalize so that the sum of the elements along that dimension are 1."
   ]
  },
  {
   "cell_type": "code",
   "execution_count": null,
   "metadata": {},
   "outputs": [],
   "source": [
    "X_sum =  #COMPLETE THESE TWO LINES OF CODE\n",
    "print(X_sum.shape)\n",
    "X_normed = \n",
    "print(X_normed.sum(axis=0))"
   ]
  },
  {
   "cell_type": "markdown",
   "metadata": {},
   "source": [
    "Find the mean (`np.mean()`) and the standard deviation (`np.std()`) for each of the property after they have been normalized."
   ]
  },
  {
   "cell_type": "code",
   "execution_count": null,
   "metadata": {},
   "outputs": [],
   "source": [
    "X_mean =               #COMPLETE THESE TWO LINES OF CODE\n",
    "print(X_mean.shape)\n",
    "X_std = \n",
    "print(X_std.shape)"
   ]
  },
  {
   "cell_type": "markdown",
   "metadata": {},
   "source": [
    "Computed the scaled dataset by subtracting the mean and dividing by the standard deviation corresponding to each property "
   ]
  },
  {
   "cell_type": "code",
   "execution_count": null,
   "metadata": {},
   "outputs": [],
   "source": [
    "X_scaled =      #COMPLETE THIS LINE OF CODE\n",
    "print(X_scaled.shape)"
   ]
  },
  {
   "cell_type": "markdown",
   "metadata": {},
   "source": [
    "We can verify the operation by seeing the distributions."
   ]
  },
  {
   "cell_type": "code",
   "execution_count": null,
   "metadata": {},
   "outputs": [],
   "source": [
    "fig, ax = plt.subplots(figsize=(12,7))\n",
    "ax.hist(X_scaled[:,0], bins=50, histtype=\"step\", label=\"Scaled property 1\")\n",
    "ax.hist(X_scaled[:,1], bins=50, histtype=\"step\", label=\"Scaled property 2\")\n",
    "ax.hist(X_scaled[:,2], bins=50, histtype=\"step\", label=\"Scaled property 3\")\n",
    "ax.legend()"
   ]
  },
  {
   "cell_type": "markdown",
   "metadata": {},
   "source": [
    "# Summary\n",
    "I hope by now you appreciate how efficiently (both in terms of run time and number of lines of code written) we can perform operations on multi-dimensional arrays using NumPy.   \n",
    "**If there are three main lessons to be learnt from this tutorial, they should be:**\n",
    "- vectorize (eliminate loops!)\n",
    "- vectorize (eliminate loops!)\n",
    "- vectorize (eliminate loops!)"
   ]
  },
  {
   "cell_type": "markdown",
   "metadata": {},
   "source": [
    "# Acknowledments\n",
    "This tutorial is heavily derived from the following sources. It is recommended to check them out for a comprehensive coverage of topics.\n",
    "- [scipy-lectures](https://scipy-lectures.org/)\n",
    "- [The Python Data Science Handbook](https://jakevdp.github.io/PythonDataScienceHandbook/)\n",
    "- [2016 Python Bootcamp for UW Astronomy and Physics](https://github.com/bmorris3/2014_fall_ASTR599)\n",
    "- [Numpy Documentation](https://numpy.org/doc/stable/)"
   ]
  },
  {
   "cell_type": "code",
   "execution_count": null,
   "metadata": {},
   "outputs": [],
   "source": []
  }
 ],
 "metadata": {
  "kernelspec": {
   "display_name": "Python 3",
   "language": "python",
   "name": "python3"
  },
  "language_info": {
   "codemirror_mode": {
    "name": "ipython",
    "version": 3
   },
   "file_extension": ".py",
   "mimetype": "text/x-python",
   "name": "python",
   "nbconvert_exporter": "python",
   "pygments_lexer": "ipython3",
   "version": "3.8.5"
  }
 },
 "nbformat": 4,
 "nbformat_minor": 4
}
